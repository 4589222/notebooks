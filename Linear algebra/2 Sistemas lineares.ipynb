{
 "cells": [
  {
   "cell_type": "markdown",
   "metadata": {},
   "source": [
    "Desta vez o tema é resolução de [sistemas lineares](https://pt.wikipedia.org/wiki/Sistema_de_equa%C3%A7%C3%B5es_lineares), com exemplos de código em Python.\n",
    "Vamos achar solução para sistemas lineares (quando uma solução existe) e vamos ver o que podemos fazer quando não há solução única."
   ]
  },
  {
   "cell_type": "code",
   "execution_count": 1,
   "metadata": {},
   "outputs": [],
   "source": [
    "import numpy as np"
   ]
  },
  {
   "cell_type": "markdown",
   "metadata": {},
   "source": [
    "Uma das utilidades de [matrizes e vetores](http://schneiderfelipe.xyz/matrizes-e-vetores/) é a possibilidade de representar múltiplas relações lineares de maneira compacta.\n",
    "Vamos começar então com essas relações.\n",
    "\n",
    "## Definição de sistemas lineares\n",
    "\n",
    "Um sistema linear é uma coleção de equações lineares:\n",
    "\n",
    "$$\\begin{align}\n",
    "a_{0,0} x_0 + a_{0,1} x_1 + \\ldots + a_{0,n-1} x_{n-1} + a_{0,n} x_n &= b_0 \\\\\n",
    "a_{1,0} x_0 + a_{1,1} x_1 + \\ldots + a_{1,n-1} x_{n-1} + a_{1,n} x_n &= b_1 \\\\\n",
    "&\\:\\vdots \\\\\n",
    "a_{m,0} x_0 + a_{m,1} x_1 + \\ldots + a_{m,n-1} x_{n-1} + a_{m,n} x_n &= b_m\n",
    "\\end{align}$$\n",
    "\n",
    "É possível escrever o sistema acima em notação matricial:\n",
    "\n",
    "$$\\begin{bmatrix}a_{0,0} & a_{0,1} & \\ldots & a_{0,n-1} & a_{0,n}\\\\\n",
    "a_{1,0} & a_{1,1} & \\ldots & a_{1,n-1} & a_{1,n}\\\\\n",
    "\\vdots &          & \\ddots &           & \\vdots\\\\\n",
    "a_{m,0} & a_{m,1} & \\ldots & a_{m,n-1} & a_{m,n}\\\\\n",
    "\\end{bmatrix}\n",
    "\\begin{bmatrix}x_0 \\\\ x_1 \\\\ \\vdots \\\\ x_n \\end{bmatrix}\n",
    "= \\begin{bmatrix}b_0 \\\\ b_1 \\\\ \\vdots \\\\ b_m \\end{bmatrix}$$\n",
    "\n",
    "Observe que a relação como escrita acima pode ser entendia de forma simplificada e abreviada como $A x = b$.\n",
    "Em outras palavras, como $x$ é a incógnita, a matriz $A$ e o vetor $b$ caracterizam o sistema linear de maneira completa."
   ]
  },
  {
   "cell_type": "markdown",
   "metadata": {},
   "source": [
    "## Solução de sistemas lineares: a ideia básica\n",
    "\n",
    "A método tradicional de se resolver um sistema desses é por [eliminação de Gauss](https://pt.wikipedia.org/wiki/Elimina%C3%A7%C3%A3o_de_Gauss), que consiste em operar linha por linha de maneira a reduzir o sistema a uma forma em que a solução é óbvia.\n",
    "Cada [operação elementar][opel] é tal que a matriz $A$ e o vetor $b$ caracterizam um *novo* sistema que admite a *mesma* solução.\n",
    "\n",
    "[opel]: https://pt.wikipedia.org/wiki/Opera%C3%A7%C3%A3o_elementar_(matrizes)\n",
    "\n",
    "Talvez você já tenha feito isso; as três operações permitidas são:\n",
    "\n",
    "1. Somar $k$ vezes a linha $i$ à linha $j$;\n",
    "2. Multiplicar a linha $i$ pelo escalar $k$;\n",
    "3. Trocar a posição das linhas $i$ e $j$.\n",
    "\n",
    "Cada uma dessas operações é equivalente à multiplicação (pela esquerda) por uma matriz elementar.\n",
    "A primeira operação acima, por exemplo, que envolve multiplicar por $k$ a linha $i$ e adicionar o resultado à linha $j$, consiste na multiplicação por uma matriz igual à identidade, exceto pela posição $E_{ij} = k$:"
   ]
  },
  {
   "cell_type": "code",
   "execution_count": 2,
   "metadata": {},
   "outputs": [
    {
     "data": {
      "text/plain": [
       "array([[ 1.,  0., -3.],\n",
       "       [ 0.,  1.,  0.],\n",
       "       [ 0.,  0.,  1.]])"
      ]
     },
     "execution_count": 2,
     "metadata": {},
     "output_type": "execute_result"
    }
   ],
   "source": [
    "E1 = np.eye(3)\n",
    "E1[0, 2] = -3  # três vezes a linha dois é somada à linha zero\n",
    "E1"
   ]
  },
  {
   "cell_type": "markdown",
   "metadata": {},
   "source": [
    "Imagine que tenhamos um sistema consistindo das equações abaixo:\n",
    "\n",
    "$$\\begin{align}\n",
    "x_0 + 3 x_2 &= b_0 \\\\\n",
    "3 x_0 + 2 x_1 + x_2 &= b_1 \\\\\n",
    "x_0 + x_2&= b_2\n",
    "\\end{align}$$\n",
    "\n",
    "Então nossa matriz $A$ e o resultado da operação acima nela é:"
   ]
  },
  {
   "cell_type": "code",
   "execution_count": 3,
   "metadata": {},
   "outputs": [
    {
     "data": {
      "text/plain": [
       "array([[1, 0, 3],\n",
       "       [3, 2, 1],\n",
       "       [1, 0, 1]])"
      ]
     },
     "execution_count": 3,
     "metadata": {},
     "output_type": "execute_result"
    }
   ],
   "source": [
    "A = np.array([[1, 0, 3], [3, 2, 1], [1, 0, 1]])\n",
    "A"
   ]
  },
  {
   "cell_type": "code",
   "execution_count": 4,
   "metadata": {},
   "outputs": [
    {
     "data": {
      "text/plain": [
       "array([[-2.,  0.,  0.],\n",
       "       [ 3.,  2.,  1.],\n",
       "       [ 1.,  0.,  1.]])"
      ]
     },
     "execution_count": 4,
     "metadata": {},
     "output_type": "execute_result"
    }
   ],
   "source": [
    "E1 @ A"
   ]
  },
  {
   "cell_type": "markdown",
   "metadata": {},
   "source": [
    "A lógica da segunda operação é a mesma: multiplicar a linha $i$ por $k$ envolve multiplicar por uma matriz quase igual à identidade, exceto por $E_{ii} = k$:"
   ]
  },
  {
   "cell_type": "code",
   "execution_count": 5,
   "metadata": {},
   "outputs": [
    {
     "data": {
      "text/plain": [
       "array([[-0.33333333,  0.        ,  0.        ],\n",
       "       [ 0.        ,  1.        ,  0.        ],\n",
       "       [ 0.        ,  0.        ,  1.        ]])"
      ]
     },
     "execution_count": 5,
     "metadata": {},
     "output_type": "execute_result"
    }
   ],
   "source": [
    "E2 = np.eye(3)\n",
    "# a linha zero será multplicada por um terço negativo\n",
    "# (equivalentemente: dividida por menos três)\n",
    "E2[0, 0] = -1/3\n",
    "E2"
   ]
  },
  {
   "cell_type": "code",
   "execution_count": 6,
   "metadata": {},
   "outputs": [
    {
     "data": {
      "text/plain": [
       "array([[-0.33333333,  0.        , -1.        ],\n",
       "       [ 3.        ,  2.        ,  1.        ],\n",
       "       [ 1.        ,  0.        ,  1.        ]])"
      ]
     },
     "execution_count": 6,
     "metadata": {},
     "output_type": "execute_result"
    }
   ],
   "source": [
    "E2 @ A"
   ]
  },
  {
   "cell_type": "markdown",
   "metadata": {},
   "source": [
    "Por último, permutar as linhas $i$ e $j$ envolve multiplicar pela matriz identidade com as respectivas linhas permutadas:"
   ]
  },
  {
   "cell_type": "code",
   "execution_count": 7,
   "metadata": {},
   "outputs": [
    {
     "data": {
      "text/plain": [
       "array([[1., 0., 0.],\n",
       "       [0., 0., 1.],\n",
       "       [0., 1., 0.]])"
      ]
     },
     "execution_count": 7,
     "metadata": {},
     "output_type": "execute_result"
    }
   ],
   "source": [
    "E3 = np.eye(3)\n",
    "E3[[1, 2]] = E3[[2, 1]]  # troca as linhas um e dois\n",
    "E3"
   ]
  },
  {
   "cell_type": "code",
   "execution_count": 8,
   "metadata": {},
   "outputs": [
    {
     "data": {
      "text/plain": [
       "array([[1., 0., 3.],\n",
       "       [1., 0., 1.],\n",
       "       [3., 2., 1.]])"
      ]
     },
     "execution_count": 8,
     "metadata": {},
     "output_type": "execute_result"
    }
   ],
   "source": [
    "E3 @ A"
   ]
  },
  {
   "cell_type": "markdown",
   "metadata": {},
   "source": [
    "Podemos usar as operações acima em sequência para achar a matriz inversa de $A$ ao aplicarmos à matriz aumentada $[A|I]$. \n",
    "Vamos aplicando operações de forma que obtenhamos uma matriz aumentada do tipo $[I|B]$, caso no qual $B$ será inversa de $A$ (isto é, $B = A^{-1}$):"
   ]
  },
  {
   "cell_type": "code",
   "execution_count": 9,
   "metadata": {},
   "outputs": [
    {
     "data": {
      "text/plain": [
       "array([[1., 0., 3., 1., 0., 0.],\n",
       "       [3., 2., 1., 0., 1., 0.],\n",
       "       [1., 0., 1., 0., 0., 1.]])"
      ]
     },
     "execution_count": 9,
     "metadata": {},
     "output_type": "execute_result"
    }
   ],
   "source": [
    "AI = np.block([A, np.eye(3)])\n",
    "AI"
   ]
  },
  {
   "cell_type": "code",
   "execution_count": 10,
   "metadata": {},
   "outputs": [
    {
     "data": {
      "text/plain": [
       "array([[ 1. ,  0. ,  0. , -0.5,  0. ,  1.5],\n",
       "       [ 0. ,  2. ,  0. ,  1. ,  1. , -4. ],\n",
       "       [ 0. ,  0. , -2. , -1. ,  0. ,  1. ]])"
      ]
     },
     "execution_count": 10,
     "metadata": {},
     "output_type": "execute_result"
    }
   ],
   "source": [
    "# Subtrair linha zero da linha dois\n",
    "E1 = np.eye(3)\n",
    "E1[2, 0] = -1\n",
    "AI = E1 @ AI\n",
    "\n",
    "# Subtrair três vezes a linha zero da linha um\n",
    "E1 = np.eye(3)\n",
    "E1[1, 0] = -3\n",
    "AI = E1 @ AI\n",
    "\n",
    "# Subtrair quarto vezes a linha dois da linha um\n",
    "E1 = np.eye(3)\n",
    "E1[1, 2] = -4\n",
    "AI = E1 @ AI\n",
    "\n",
    "# Somar três meios vezes a linha dois da linha zero\n",
    "E1 = np.eye(3)\n",
    "E1[0, 2] = 1.5\n",
    "AI = E1 @ AI\n",
    "\n",
    "AI"
   ]
  },
  {
   "cell_type": "markdown",
   "metadata": {},
   "source": [
    "Resta agora dividir as linhas um e dois por dois e menos dois, respectivamente:"
   ]
  },
  {
   "cell_type": "code",
   "execution_count": 11,
   "metadata": {},
   "outputs": [
    {
     "data": {
      "text/plain": [
       "array([[ 1. ,  0. ,  0. , -0.5,  0. ,  1.5],\n",
       "       [ 0. ,  1. ,  0. ,  0.5,  0.5, -2. ],\n",
       "       [ 0. ,  0. ,  1. ,  0.5,  0. , -0.5]])"
      ]
     },
     "execution_count": 11,
     "metadata": {},
     "output_type": "execute_result"
    }
   ],
   "source": [
    "# Dividir a linha um por dois\n",
    "E2 = np.eye(3)\n",
    "E2[1, 1] = 0.5\n",
    "AI = E2 @ AI\n",
    "\n",
    "# Dividir a linha dois por menos dois\n",
    "E2 = np.eye(3)\n",
    "E2[2, 2] = -0.5\n",
    "AI = E2 @ AI\n",
    "AI"
   ]
  },
  {
   "cell_type": "markdown",
   "metadata": {},
   "source": [
    "A inversa de $A$ se encontra a partir da coluna três da matriz aumentada:"
   ]
  },
  {
   "cell_type": "code",
   "execution_count": 12,
   "metadata": {},
   "outputs": [
    {
     "data": {
      "text/plain": [
       "array([[-0.5,  0. ,  1.5],\n",
       "       [ 0.5,  0.5, -2. ],\n",
       "       [ 0.5,  0. , -0.5]])"
      ]
     },
     "execution_count": 12,
     "metadata": {},
     "output_type": "execute_result"
    }
   ],
   "source": [
    "Ainv = AI[:, 3:]\n",
    "Ainv"
   ]
  },
  {
   "cell_type": "markdown",
   "metadata": {},
   "source": [
    "Observe que o resultado acima concorda perfeitamente com a saída da função `numpy.linalg.inv`, que inverte automaticamente uma matriz (quando a inversa existe):"
   ]
  },
  {
   "cell_type": "code",
   "execution_count": 13,
   "metadata": {},
   "outputs": [
    {
     "data": {
      "text/plain": [
       "array([[-0.5,  0. ,  1.5],\n",
       "       [ 0.5,  0.5, -2. ],\n",
       "       [ 0.5, -0. , -0.5]])"
      ]
     },
     "execution_count": 13,
     "metadata": {},
     "output_type": "execute_result"
    }
   ],
   "source": [
    "np.linalg.inv(A)"
   ]
  },
  {
   "cell_type": "markdown",
   "metadata": {},
   "source": [
    "Por fim, o código abaixo confirma que a matriz acima encontrada é de fato inversa de $A$ ao comparar elemento por elemento do resultado da multiplicação $A^{-1} A$ com a matriz identidade:"
   ]
  },
  {
   "cell_type": "code",
   "execution_count": 14,
   "metadata": {},
   "outputs": [
    {
     "data": {
      "text/plain": [
       "True"
      ]
     },
     "execution_count": 14,
     "metadata": {},
     "output_type": "execute_result"
    }
   ],
   "source": [
    "np.allclose(Ainv @ A, np.eye(3))"
   ]
  },
  {
   "cell_type": "markdown",
   "metadata": {},
   "source": [
    "Dado um sistema $A x = b$, poderíamos ter realizado as mesmas operações acima à matriz aumentada $[A|b]$.\n",
    "Neste caso, teríamos obtido $[I|x^*]$, onde $x^*$ é o vetor-solução desejado. A vantagem de se obter a inversa é que se pode obter a solução para qualquer $b$:\n",
    "\n",
    "$$x^* = A^{-1} b$$"
   ]
  },
  {
   "cell_type": "code",
   "execution_count": 15,
   "metadata": {},
   "outputs": [
    {
     "data": {
      "text/plain": [
       "array([ 4. , -4.5, -1. ])"
      ]
     },
     "execution_count": 15,
     "metadata": {},
     "output_type": "execute_result"
    }
   ],
   "source": [
    "b = np.array([1., 2., 3.])\n",
    "x = Ainv @ b\n",
    "x"
   ]
  },
  {
   "cell_type": "markdown",
   "metadata": {},
   "source": [
    "Ou, poderíamos ter obtido a solução da maneira mais fácil, usando a função `numpy.linalg.solve`:"
   ]
  },
  {
   "cell_type": "code",
   "execution_count": 16,
   "metadata": {},
   "outputs": [
    {
     "data": {
      "text/plain": [
       "array([ 4. , -4.5, -1. ])"
      ]
     },
     "execution_count": 16,
     "metadata": {},
     "output_type": "execute_result"
    }
   ],
   "source": [
    "np.linalg.solve(A, b)"
   ]
  },
  {
   "cell_type": "markdown",
   "metadata": {},
   "source": [
    "## O procedimento automático\n",
    "\n",
    "Como visto acima, é em geral desecessário inverter uma matriz para resolver um sistema linear.\n",
    "A função `numpy.linalg.solve` resolve sistemas lineares com solução única (aqueles em que a matriz $A$ é quadrada e seu determinane é diferente de zero) sem calcular a inversa.\n",
    "Por exemplo, o sistema $A x = b$ abaixo\n",
    "\n",
    "$$\\begin{bmatrix}1 & 2 \\\\ 3 & 4\\end{bmatrix} \\begin{bmatrix}x_0 \\\\ x_1\\end{bmatrix}\n",
    "= \\begin{bmatrix}1 \\\\ 0\\end{bmatrix}$$\n",
    "\n",
    "tem solução $x = (x_0, x_1) = (-2, 3/2)$:"
   ]
  },
  {
   "cell_type": "code",
   "execution_count": 17,
   "metadata": {},
   "outputs": [
    {
     "data": {
      "text/plain": [
       "array([-2. ,  1.5])"
      ]
     },
     "execution_count": 17,
     "metadata": {},
     "output_type": "execute_result"
    }
   ],
   "source": [
    "A = np.array([[1., 2.], [3., 4.]])\n",
    "b = np.array([1., 0.])\n",
    "x = np.linalg.solve(A, b)\n",
    "x"
   ]
  },
  {
   "cell_type": "markdown",
   "metadata": {},
   "source": [
    "Para checar que o vetor obtido acima é de fato solução, basta checarmos a equação original, ou seja, que $Ax$ é igual a $b$:"
   ]
  },
  {
   "cell_type": "code",
   "execution_count": 18,
   "metadata": {},
   "outputs": [
    {
     "data": {
      "text/plain": [
       "array([1., 0.])"
      ]
     },
     "execution_count": 18,
     "metadata": {},
     "output_type": "execute_result"
    }
   ],
   "source": [
    "A @ x"
   ]
  },
  {
   "cell_type": "markdown",
   "metadata": {},
   "source": [
    "Poderíamos ter também feito a checagem diretamente no código com `numpy.allclose`, que, já vimos antes, compara matrizes componente a componente:"
   ]
  },
  {
   "cell_type": "code",
   "execution_count": 19,
   "metadata": {},
   "outputs": [
    {
     "data": {
      "text/plain": [
       "True"
      ]
     },
     "execution_count": 19,
     "metadata": {},
     "output_type": "execute_result"
    }
   ],
   "source": [
    "np.allclose(A @ x, b)"
   ]
  },
  {
   "cell_type": "markdown",
   "metadata": {},
   "source": [
    "Não vou mostrar exemplos, mas vou fazer menção de que a mesma função `numpy.linalg.solve` também resolve sistemas lineares do tipo\n",
    "\n",
    "$$A X = B$$\n",
    "\n",
    "onde $B$ e a incógnita $X$ são *matrizes*. Isto é equivalente a resolver simultaneamente vários sistemas lineares do tipo $A x = b$, onde cada $x$ e $b$ são colunas das matrizes $X$ e $B$, respectivamente.\n",
    "\n",
    "Então, nem a justificativa de se obter a inversa da matriz $A$ para resolver vários sistemas lineares com vetores $b$ diferentes serve: você provavelmente nunca vai precisar inverter uma matriz. Além disso, inverter matrizes custa em geral mais caro computacionalmente:"
   ]
  },
  {
   "cell_type": "code",
   "execution_count": 20,
   "metadata": {},
   "outputs": [
    {
     "name": "stdout",
     "output_type": "stream",
     "text": [
      "8.35 µs ± 131 ns per loop (mean ± std. dev. of 7 runs, 100000 loops each)\n"
     ]
    }
   ],
   "source": [
    "%%timeit\n",
    "x = np.linalg.solve(A, b)"
   ]
  },
  {
   "cell_type": "code",
   "execution_count": 21,
   "metadata": {},
   "outputs": [
    {
     "name": "stdout",
     "output_type": "stream",
     "text": [
      "10.8 µs ± 407 ns per loop (mean ± std. dev. of 7 runs, 100000 loops each)\n"
     ]
    }
   ],
   "source": [
    "%%timeit\n",
    "x = np.linalg.inv(A) @ b"
   ]
  },
  {
   "cell_type": "markdown",
   "metadata": {},
   "source": [
    "## Quadrados mínimos\n",
    "\n",
    "Caso um sistema linear $A x = b$ não tenha solução, ainda assim é possível nos contentarmos com uma soluçao aproximada ótima, ou seja, uma que minimize o quadrado da norma entre os vetores $Ax$ e $b$:\n",
    "\n",
    "$$x^* =\\underset{x}{\\operatorname{argmin}} |A x - b|^2$$\n",
    "\n",
    "O problema acima é resolvido pela função `numpy.linalg.lstsq`.\n",
    "Observe que, quando uma solução para $Ax = b$ existe, o mínimo $x^*$ acima é a própria solução:"
   ]
  },
  {
   "cell_type": "code",
   "execution_count": 22,
   "metadata": {},
   "outputs": [
    {
     "name": "stderr",
     "output_type": "stream",
     "text": [
      "/usr/local/lib/python3.6/dist-packages/ipykernel_launcher.py:1: FutureWarning: `rcond` parameter will change to the default of machine precision times ``max(M, N)`` where M and N are the input matrix dimensions.\n",
      "To use the future default and silence this warning we advise to pass `rcond=None`, to keep using the old, explicitly pass `rcond=-1`.\n",
      "  \"\"\"Entry point for launching an IPython kernel.\n"
     ]
    },
    {
     "data": {
      "text/plain": [
       "array([-2. ,  1.5])"
      ]
     },
     "execution_count": 22,
     "metadata": {},
     "output_type": "execute_result"
    }
   ],
   "source": [
    "x, _, _, _ = np.linalg.lstsq(A, b)\n",
    "x"
   ]
  },
  {
   "cell_type": "markdown",
   "metadata": {},
   "source": [
    "(A função retorna quatro objetos, o código acima ignora os últimos três, uma vez que o primeiro contém a solução que desejamos.)\n",
    "\n",
    "Um sistema sobredeterminado é exemplificado abaixo, onde a matriz $A$ possui mais linhas que colunas (ou seja, mais equações que incógnitas):"
   ]
  },
  {
   "cell_type": "code",
   "execution_count": 23,
   "metadata": {},
   "outputs": [
    {
     "data": {
      "text/plain": [
       "array([[1., 2.],\n",
       "       [3., 4.],\n",
       "       [5., 6.]])"
      ]
     },
     "execution_count": 23,
     "metadata": {},
     "output_type": "execute_result"
    }
   ],
   "source": [
    "A = np.array([[1., 2.], [3., 4.], [5., 6.]])\n",
    "A"
   ]
  },
  {
   "cell_type": "markdown",
   "metadata": {},
   "source": [
    "Sistemas desse tipo não possuem solução em geral. De fato, `numpy.linalg.solve` dará um erro do tipo `LinAlgError` devido à matriz $A$ não ser quadrada (tente fazer!).\n",
    "Mas podemos obter uma solução de quadrados mínimos:"
   ]
  },
  {
   "cell_type": "code",
   "execution_count": 24,
   "metadata": {},
   "outputs": [
    {
     "name": "stderr",
     "output_type": "stream",
     "text": [
      "/usr/local/lib/python3.6/dist-packages/ipykernel_launcher.py:2: FutureWarning: `rcond` parameter will change to the default of machine precision times ``max(M, N)`` where M and N are the input matrix dimensions.\n",
      "To use the future default and silence this warning we advise to pass `rcond=None`, to keep using the old, explicitly pass `rcond=-1`.\n",
      "  \n"
     ]
    },
    {
     "data": {
      "text/plain": [
       "array([-0.66666667,  0.91666667])"
      ]
     },
     "execution_count": 24,
     "metadata": {},
     "output_type": "execute_result"
    }
   ],
   "source": [
    "b = np.array([1., 2., 2.])\n",
    "x, residuals, _, _ = np.linalg.lstsq(A, b)\n",
    "x"
   ]
  },
  {
   "cell_type": "code",
   "execution_count": 25,
   "metadata": {},
   "outputs": [
    {
     "data": {
      "text/plain": [
       "array([1.16666667, 1.66666667, 2.16666667])"
      ]
     },
     "execution_count": 25,
     "metadata": {},
     "output_type": "execute_result"
    }
   ],
   "source": [
    "A @ x"
   ]
  },
  {
   "cell_type": "markdown",
   "metadata": {},
   "source": [
    "Observe como a multiplicação de $A$ por $x$ não retorna $b$ (na verdade, eu escolhi $b$ propositalmente de maneira a não haver solução para o sistema). O segundo objeto retornado pela função `numpy.linalg.lstsq` nos dá a norma quadrada da diferença entre $Ax$ e $b$:"
   ]
  },
  {
   "cell_type": "code",
   "execution_count": 26,
   "metadata": {},
   "outputs": [
    {
     "data": {
      "text/plain": [
       "array([0.16666667])"
      ]
     },
     "execution_count": 26,
     "metadata": {},
     "output_type": "execute_result"
    }
   ],
   "source": [
    "residuals"
   ]
  },
  {
   "cell_type": "markdown",
   "metadata": {},
   "source": [
    "Podemos verificar o resíduo acima usando `numpy.sum`:"
   ]
  },
  {
   "cell_type": "code",
   "execution_count": 27,
   "metadata": {},
   "outputs": [
    {
     "data": {
      "text/plain": [
       "0.16666666666666652"
      ]
     },
     "execution_count": 27,
     "metadata": {},
     "output_type": "execute_result"
    }
   ],
   "source": [
    "np.sum((A @ x - b)**2)"
   ]
  },
  {
   "cell_type": "markdown",
   "metadata": {},
   "source": [
    "É isso aí, talvez em outro momento eu fale sobre quadrados mínimos com mais profundidade, explicando como a `numpy.linalg.lsqtsq` faz o que faz.\n",
    "No entanto, no próximo texto, vamos ver alguma coisa sobre autovalores e autovetores com Python."
   ]
  }
 ],
 "metadata": {
  "kernelspec": {
   "display_name": "Python 3",
   "language": "python",
   "name": "python3"
  },
  "language_info": {
   "codemirror_mode": {
    "name": "ipython",
    "version": 3
   },
   "file_extension": ".py",
   "mimetype": "text/x-python",
   "name": "python",
   "nbconvert_exporter": "python",
   "pygments_lexer": "ipython3",
   "version": "3.6.9"
  }
 },
 "nbformat": 4,
 "nbformat_minor": 2
}
